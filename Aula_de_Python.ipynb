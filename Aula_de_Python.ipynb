{
  "nbformat": 4,
  "nbformat_minor": 0,
  "metadata": {
    "colab": {
      "name": "Aula de Python",
      "provenance": [],
      "authorship_tag": "ABX9TyPdWpSN4lODGNYRRQeBsZtZ",
      "include_colab_link": true
    },
    "kernelspec": {
      "name": "python3",
      "display_name": "Python 3"
    }
  },
  "cells": [
    {
      "cell_type": "markdown",
      "metadata": {
        "id": "view-in-github",
        "colab_type": "text"
      },
      "source": [
        "<a href=\"https://colab.research.google.com/github/Diegodevops26/Diego/blob/master/Aula_de_Python.ipynb\" target=\"_parent\"><img src=\"https://colab.research.google.com/assets/colab-badge.svg\" alt=\"Open In Colab\"/></a>"
      ]
    },
    {
      "cell_type": "code",
      "metadata": {
        "id": "MJvDC8icoi3i",
        "colab_type": "code",
        "colab": {}
      },
      "source": [
        "def mais_um_ano(idade):\n",
        "  print('ta dentro dessa função')\n",
        "  return idade + 1 "
      ],
      "execution_count": 0,
      "outputs": []
    },
    {
      "cell_type": "code",
      "metadata": {
        "id": "OWlEu20lpLMo",
        "colab_type": "code",
        "colab": {
          "base_uri": "https://localhost:8080/",
          "height": 51
        },
        "outputId": "5a518374-2ddc-426c-8f1c-c44abc1e5e5f"
      },
      "source": [
        "mais_um_ano(26)"
      ],
      "execution_count": 3,
      "outputs": [
        {
          "output_type": "stream",
          "text": [
            "ta dentro dessa função\n"
          ],
          "name": "stdout"
        },
        {
          "output_type": "execute_result",
          "data": {
            "text/plain": [
              "27"
            ]
          },
          "metadata": {
            "tags": []
          },
          "execution_count": 3
        }
      ]
    },
    {
      "cell_type": "code",
      "metadata": {
        "id": "_l4E1TN-rehV",
        "colab_type": "code",
        "colab": {}
      },
      "source": [
        "filme1 = \"Toy Story\"\n",
        "filme2 = \"Meu Fusca\"\n",
        "filme3 = \"Star Wars\"\n"
      ],
      "execution_count": 0,
      "outputs": []
    },
    {
      "cell_type": "code",
      "metadata": {
        "id": "sL1Vav2bvwvk",
        "colab_type": "code",
        "colab": {
          "base_uri": "https://localhost:8080/",
          "height": 34
        },
        "outputId": "2a5b3256-fefb-408e-c35c-f559c97fc8ba"
      },
      "source": [
        "filmes =(\"Toy Story\",\"Meu Fusca\",\"Star Wars\")\n",
        "filmes"
      ],
      "execution_count": 6,
      "outputs": [
        {
          "output_type": "execute_result",
          "data": {
            "text/plain": [
              "('Toy Story', 'Meu Fusca', 'Star Wars')"
            ]
          },
          "metadata": {
            "tags": []
          },
          "execution_count": 6
        }
      ]
    },
    {
      "cell_type": "code",
      "metadata": {
        "id": "Bf4gYpsIwUcI",
        "colab_type": "code",
        "colab": {}
      },
      "source": [
        "def imprime_filmes(filmes):\n",
        "   print (\"A lista de filmes disponível\")\n",
        "   print(filmes)"
      ],
      "execution_count": 0,
      "outputs": []
    },
    {
      "cell_type": "code",
      "metadata": {
        "id": "_h5htkIByS3j",
        "colab_type": "code",
        "colab": {
          "base_uri": "https://localhost:8080/",
          "height": 51
        },
        "outputId": "c4d989f6-65d0-4f5c-d124-23531ce47ab3"
      },
      "source": [
        "imprime_filmes(filmes)"
      ],
      "execution_count": 10,
      "outputs": [
        {
          "output_type": "stream",
          "text": [
            "A lista de filmes disponível\n",
            "('Toy Story', 'Meu Fusca', 'Star Wars')\n"
          ],
          "name": "stdout"
        }
      ]
    }
  ]
}